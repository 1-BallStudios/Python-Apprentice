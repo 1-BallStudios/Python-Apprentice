{
 "cells": [
  {
   "cell_type": "code",
   "execution_count": null,
   "metadata": {},
   "outputs": [],
   "source": [
    "# Programmable turtle graphics\n",
    "\n",
    "# Use what you've learned about lists, loop, cycle, slice and zip to draw a pattern\n",
    "# Hint: Look at the end of ``15_iteration.ipynb`` \n",
    "\n",
    "... # Create a turtle like in previous programs. \n",
    "\n",
    "colors = ...\n",
    "\n",
    "directions = [\n",
    "    ( <angle>, <distance> ),\n",
    "    ... # Add more\n",
    "]\n",
    "\n",
    "for ... in zip( ... , ...):\n",
    "    t.color( ... )\n",
    "    t.forward( ... )\n",
    "    t.left( ... )\n"
   ]
  }
 ],
 "metadata": {
  "language_info": {
   "name": "python"
  }
 },
 "nbformat": 4,
 "nbformat_minor": 2
}
