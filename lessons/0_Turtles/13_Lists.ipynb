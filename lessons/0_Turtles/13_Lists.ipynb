{
 "cells": [
  {
   "cell_type": "markdown",
   "metadata": {},
   "source": [
    "# First Look at Lists\n",
    "\n",
    "One of the most important data structures in Python is the list. A list in Python is\n",
    "like the lists you are familiar with, like a grocery list: \n",
    "\n",
    "```\n",
    "Things To Buy\n",
    "  - apples\n",
    "  - oranges\n",
    "  - bread \n",
    "  - milk\n",
    "```\n",
    "\n",
    "But in Python we would write it like this: \n"
   ]
  },
  {
   "cell_type": "code",
   "execution_count": 21,
   "metadata": {},
   "outputs": [
    {
     "data": {
      "text/plain": [
       "['apples', 'oranges', 'bread', 'milk']"
      ]
     },
     "execution_count": 21,
     "metadata": {},
     "output_type": "execute_result"
    }
   ],
   "source": [
    "\n",
    "things_to_buy = [ 'apples','oranges','bread','milk']\n",
    "things_to_buy"
   ]
  },
  {
   "cell_type": "markdown",
   "metadata": {},
   "source": [
    "\n",
    "\n",
    "The brackets, `[` and `]` are most often used to mean that something is a list. \n",
    "\n",
    "There are a lot of neat things we can do with a list.\n",
    "\n",
    "First, you can get a specific item from a list, using the `[]` with a number inside. \n"
   ]
  },
  {
   "cell_type": "code",
   "execution_count": 22,
   "metadata": {},
   "outputs": [
    {
     "data": {
      "text/plain": [
       "'oranges'"
      ]
     },
     "execution_count": 22,
     "metadata": {},
     "output_type": "execute_result"
    }
   ],
   "source": [
    "# Run Me!\n",
    "things_to_buy[1]\n"
   ]
  },
  {
   "cell_type": "markdown",
   "metadata": {},
   "source": [
    "Getting values out of a list like this is called \"indexing\".\n",
    "\n",
    "\n",
    "Like most programming languages, the first item in a list is 0, not 1, so if\n",
    "you wanted to get `apples` from the list, you would write `things_to_get[0]`\n",
    "\n",
    "Another important thing about lists is you can _iterate_ them, which means 'do\n",
    "something repeatedly'. Here is how we would print out all of the items in the\n",
    "list: \n",
    "\n"
   ]
  },
  {
   "cell_type": "code",
   "execution_count": 23,
   "metadata": {},
   "outputs": [
    {
     "name": "stdout",
     "output_type": "stream",
     "text": [
      "apples\n",
      "oranges\n",
      "bread\n",
      "milk\n"
     ]
    }
   ],
   "source": [
    "\n",
    "things_to_buy = [ 'apples','oranges','bread','milk']\n",
    "\n",
    "for item in things_to_buy:\n",
    "    print(item)\n"
   ]
  },
  {
   "cell_type": "markdown",
   "metadata": {},
   "source": [
    "\n",
    "\n",
    "Loops and lists could be very useful for our turtle programs. For instance, we could make a square with \n",
    "a different color on each side: \n",
    "\n",
    "```python\n",
    "\n",
    "import turtle\n",
    "tina = turtle.Turtle()\n",
    "tina.shape(\"turtle\")\n",
    "\n",
    "forward = 50\n",
    "left = 90\n",
    "colors = [ 'red', 'blue', 'black', 'orange']\n",
    "\n",
    "for color in colors:\n",
    "    tina.color(color)\n",
    "    tina.forward(forward)\n",
    "    tina.left(left)\n",
    "\n",
    "```\n",
    "\n",
    "Or, we could change the angle that tina turns: \n"
   ]
  },
  {
   "cell_type": "code",
   "execution_count": 24,
   "metadata": {},
   "outputs": [
    {
     "name": "stdout",
     "output_type": "stream",
     "text": [
      "tina.forward(50)\n",
      "tina.left(45)\n",
      " \n",
      "tina.forward(50)\n",
      "tina.left(60)\n",
      " \n",
      "tina.forward(50)\n",
      "tina.left(90)\n",
      " \n",
      "tina.forward(50)\n",
      "tina.left(45)\n",
      " \n",
      "tina.forward(50)\n",
      "tina.left(-90)\n",
      " \n",
      "tina.forward(50)\n",
      "tina.left(60)\n",
      " \n",
      "tina.forward(50)\n",
      "tina.left(22)\n",
      " \n",
      "tina.forward(50)\n",
      "tina.left(-45)\n",
      " \n",
      "tina.forward(50)\n",
      "tina.left(90)\n",
      " \n"
     ]
    }
   ],
   "source": [
    "# Run Me!\n",
    "# Note we are going to print out what Tina does, instead of actually run Tina in a window. \n",
    "\n",
    "forward = 50\n",
    "\n",
    "for left in [ 45, 60, 90, 45, -90, 60, 22 , -45, 90]:\n",
    "    print(f\"tina.forward({forward})\")\n",
    "    print(f\"tina.left({left})\")\n",
    "    print(\" \")\n"
   ]
  },
  {
   "cell_type": "markdown",
   "metadata": {},
   "source": [
    "# More List Tricks\n",
    "\n",
    "Here some more things that we can do with lists.\n",
    "\n",
    "# Indexing\n"
   ]
  },
  {
   "cell_type": "code",
   "execution_count": 25,
   "metadata": {},
   "outputs": [
    {
     "name": "stdout",
     "output_type": "stream",
     "text": [
      "red\n",
      "blue\n",
      "orange\n"
     ]
    }
   ],
   "source": [
    "# Indexing  ( Run Me! )\n",
    "\n",
    "colors = [ 'red', 'blue', 'black', 'orange']    # define a list of colors\n",
    "\n",
    "print(colors[0])        # print the first item\n",
    "print(colors[1])        # print the second item \n",
    "\n",
    "print(colors[-1])       # print the last item. Negative numbers are counted from the end\n"
   ]
  },
  {
   "cell_type": "markdown",
   "metadata": {},
   "source": [
    "# Slicing\n",
    "\n",
    "A \"slice\" is a portion of a list, starting at one list item and ending with another. Here are some\n",
    "examples of slicing:"
   ]
  },
  {
   "cell_type": "code",
   "execution_count": 26,
   "metadata": {},
   "outputs": [
    {
     "name": "stdout",
     "output_type": "stream",
     "text": [
      "[1:3] ['blue', 'black']\n",
      "[:2] ['red', 'blue']\n",
      "[2:] ['black', 'orange']\n"
     ]
    }
   ],
   "source": [
    "# Slicing lists (Run Me!)\n",
    "\n",
    "colors = [ 'red', 'blue', 'black', 'orange']    # define a list of colors\n",
    "\n",
    "print('[1:3]', colors[1:3])      # print the second to third items, but not including the third item\n",
    "print('[:2]', colors[:2])        # print the first two items. Nothing before the ':' means 'from the start'\n",
    "print('[2:]', colors[2:])        # print the third and subsequent items. Nothing after the ':' means 'to the end'\n"
   ]
  },
  {
   "cell_type": "markdown",
   "metadata": {},
   "source": [
    "We can also use negative numbers in slicing, which means \"from the end\"."
   ]
  },
  {
   "cell_type": "code",
   "execution_count": 27,
   "metadata": {},
   "outputs": [
    {
     "name": "stdout",
     "output_type": "stream",
     "text": [
      "[-3:] [8, 9, 10]\n",
      "[:-3] [1, 2, 3, 4, 5, 6, 7]\n",
      "[-6:-3] [5, 6, 7]\n",
      "[2:-2] [3, 4, 5, 6, 7, 8]\n",
      "[-6:8] [5, 6, 7, 8]\n",
      "[-1] 10\n",
      "[-3:] [8, 9, 10]\n"
     ]
    }
   ],
   "source": [
    "# Slicing with negative ( Run me!)\n",
    "\n",
    "nums = [ 1, 2, 3, 4, 5, 6, 7, 8, 9, 10]\n",
    "\n",
    "print('[-3:]', nums[-3:])        # print the last three items\n",
    "print('[:-3]', nums[:-3])        # print all but the last three items\n",
    "print('[-6:-3]', nums[-6:-3])    # print the fourth to sixth items, but not including the sixth item\n",
    "\n",
    "# And we can mix negative and positives\n",
    "\n",
    "print('[2:-2]', nums[2:-2])      # print the third to the third last items, but not including the third last item\n",
    "print('[-6:8]', nums[-6:8])      # print the fourth to the eighth items, but not including the eighth item\n",
    "\n",
    "# However, the most important use of negative indexes is to get the last item,\n",
    "# or the last few items\n",
    "\n",
    "print('[-1]', nums[-1])          # print the last item\n",
    "print('[-3:]', nums[-3:])        # print the last three items\n",
    "\n",
    "\n"
   ]
  },
  {
   "cell_type": "markdown",
   "metadata": {},
   "source": [
    "There is one more trick to slicing: there is an optioinal third number\n",
    "that tells how many items to skip. "
   ]
  },
  {
   "cell_type": "code",
   "execution_count": 28,
   "metadata": {},
   "outputs": [
    {
     "name": "stdout",
     "output_type": "stream",
     "text": [
      "[::2] [1, 3, 5, 7, 9]\n",
      "[1::2] [2, 4, 6, 8, 10]\n",
      "[::-1] [10, 9, 8, 7, 6, 5, 4, 3, 2, 1]\n"
     ]
    }
   ],
   "source": [
    "# Skipping items\n",
    "\n",
    "nums = [ 1, 2, 3, 4, 5, 6, 7, 8, 9, 10]\n",
    "\n",
    "print('[::2]', nums[::2])        # print every second item\n",
    "print('[1::2]', nums[1::2])      # print every second item starting from the second item\n",
    "\n",
    "# This third argument can also be negative, which means to go backwards\n",
    "# This is a common way to reverse a list\n",
    "\n",
    "print('[::-1]', nums[::-1])      # print the list in reverse order. \n",
    "\n"
   ]
  }
 ],
 "metadata": {
  "kernelspec": {
   "display_name": ".venv",
   "language": "python",
   "name": "python3"
  },
  "language_info": {
   "codemirror_mode": {
    "name": "ipython",
    "version": 3
   },
   "file_extension": ".py",
   "mimetype": "text/x-python",
   "name": "python",
   "nbconvert_exporter": "python",
   "pygments_lexer": "ipython3",
   "version": "3.11.6"
  }
 },
 "nbformat": 4,
 "nbformat_minor": 2
}
