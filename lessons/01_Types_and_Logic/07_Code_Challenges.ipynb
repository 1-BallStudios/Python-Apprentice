{
 "cells": [
  {
   "attachments": {},
   "cell_type": "markdown",
   "metadata": {
    "editable": true,
    "slideshow": {
     "slide_type": ""
    },
    "tags": []
   },
   "source": [
    "# Hacker Rank Skills Challenges\n",
    "\n",
    "[Hacker Rank](https://www.hackerrank.com/) is a website that provides a series\n",
    "of programming challenges. The challenges are organized by skills and difficulty\n",
    "level. The website provides a platform for users to practice their programming\n",
    "skills and to compete with others. Hacker Rank also provides a series of\n",
    "tutorials and practice problems to help users improve their programming skills.\n",
    "\n",
    "In the \"Hacker Rank\" notebooks like this, we will give you challenges from\n",
    "Hacker rank. Each section will have one challenge, with a link to the Hacker\n",
    "Rank challenge. TO use that link, you will have to create a Hacker Rank Account.\n",
    "If you do, you will be able to keep track of your process with the challenges. \n",
    "\n",
    "*Important* When you create your Hacker Rank account *use your Github account*.\n",
    "When you got to the sign up page, look for a button like this: \n",
    "\n",
    "\n"
   ]
  },
  {
   "cell_type": "markdown",
   "metadata": {},
   "source": []
  }
 ],
 "metadata": {
  "kernelspec": {
   "display_name": "Python 3 (ipykernel)",
   "language": "python",
   "name": "python3"
  },
  "language_info": {
   "codemirror_mode": {
    "name": "ipython",
    "version": 3
   },
   "file_extension": ".py",
   "mimetype": "text/x-python",
   "name": "python",
   "nbconvert_exporter": "python",
   "pygments_lexer": "ipython3",
   "version": "3.11.9"
  }
 },
 "nbformat": 4,
 "nbformat_minor": 4
}
