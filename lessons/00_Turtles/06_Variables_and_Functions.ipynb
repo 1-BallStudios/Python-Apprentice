{
 "cells": [
  {
   "cell_type": "markdown",
   "metadata": {},
   "source": [
    "# Variables and Functions\n",
    "\n",
    "Here is one of the ways to solve the last assignment, making shapes with a\n",
    "loop:\n",
    "\n",
    "```python \n",
    "\n",
    "import turtle                           # Tell Python we want to work with the turtle\n",
    "turtle.setup(width=600, height=60 360/50)     # Set the size of the window\n",
    "\n",
    "tina = turtle.Turtle()                  # Create a turtle named tina\n",
    "\n",
    "tina.shape('turtle')                    # Set the shape of the turtle to a turtle\n",
    "tina.speed(0)                           # Make the turtle move as fast, but not too fast. \n",
    "\n",
    "for i in range(4):\n",
    "    tina.forward(150)                   # Move tina forward by the forward distance\n",
    "    tina.left(90)                       # Turn tina left by the left turn\n",
    "\n",
    "# Move tina away from the square\n",
    "tina.penup()\n",
    "tina.goto(-100, 100)\n",
    "tina.pendown()\n",
    "\n",
    "for i in range(5):\n",
    "    tina.forward(60)                    # Move tina forward by the forward distance\n",
    "    tina.left(72)                    # Turn tina left by the left turn\n",
    "\n",
    "```\n",
    "\n",
    "Let's see if we can make this code even simpler. Notice that the code that draws the square\n",
    "has a range of `4` and left turn of `90` degrees, and $4*90 = 360$. The pentagram has\n",
    "a range of `5` and a left turn of `72` degrees, and $5*72=360$. Hmm... could we come\n",
    "up with a way to compute the angle for  any number of sides? TO do that, we\n",
    "going to use variables and math. "
   ]
  },
  {
   "cell_type": "code",
   "execution_count": null,
   "metadata": {},
   "outputs": [],
   "source": [
    "# Compute the angle for a number of sides\n",
    "\n",
    "sides = 6\n",
    "angle = 360/sides\n",
    "\n",
    "angle\n"
   ]
  },
  {
   "cell_type": "markdown",
   "metadata": {},
   "source": [
    "If we want 6 sides the angle is 60 degrees, and sure enough, $60*6 = 360$.\n",
    "\n",
    "The words  `sides`  and `angle` are __variables__, which are like the names of boxes \n",
    "that can hold values. We can __assign__ values to variables, then use those variables \n",
    "in other places. \n",
    "\n",
    "```python \n",
    "\n",
    "sides = 4\n",
    "angle = 360/sides           # Calculate the angle from the number of sides. \n",
    "\n",
    "for i in range(sides):\n",
    "    tina.forward(150)       # Move tina forward by the forward distance\n",
    "    tina.left(angle)        # Turn tina left by the left turn\n",
    "\n",
    "```\n",
    "\n",
    "In this program, if you change the number that we assign to `sides`, the angle will change automatically!\n",
    "\n",
    "Let's see if the angles created by this equation seem correct. Fill in the\n",
    "'...' in the program in the cell below to calculate angles from sides: "
   ]
  },
  {
   "cell_type": "code",
   "execution_count": null,
   "metadata": {},
   "outputs": [],
   "source": [
    "for sides in range(1, 10):\n",
    "    angle = ...\n",
    "    print(\"Angle for \", sides, \" sides is \", angle)\n",
    "   "
   ]
  },
  {
   "cell_type": "markdown",
   "metadata": {},
   "source": [
    "# Functions\n",
    "\n",
    "We can make another more improvement in our program; by grouping \n",
    "the comands to create a shape into a __function__. Here is an example of a function:"
   ]
  },
  {
   "cell_type": "code",
   "execution_count": 6,
   "metadata": {},
   "outputs": [
    {
     "name": "stdout",
     "output_type": "stream",
     "text": [
      "Hello  John\n",
      "Hello  John\n",
      "Hello  John\n",
      "Hello  John\n",
      "Hello  John\n"
     ]
    }
   ],
   "source": [
    "def say_hello(name, times):         # define the function, and give it a name.  'name' and 'times' are parameters\n",
    "\n",
    "    for i in range(times):          # This is the body of the function\n",
    "        print(i, \"Hello \", name)\n",
    "\n",
    "say_hello(\"John\", 5)                # Call the function, and pass it two arguments"
   ]
  },
  {
   "cell_type": "markdown",
   "metadata": {},
   "source": [
    "The line that starts with 'def' is the start of the function definition, and the\n",
    "last line is where we call the function -- we actually run it.   Try calling the\n",
    "function again with different parameters."
   ]
  },
  {
   "cell_type": "code",
   "execution_count": 7,
   "metadata": {},
   "outputs": [
    {
     "name": "stdout",
     "output_type": "stream",
     "text": [
      "Hello  bob\n",
      "Hello  bob\n",
      "Hello  bob\n"
     ]
    }
   ],
   "source": [
    "say_hello('bob',3)"
   ]
  },
  {
   "cell_type": "code",
   "execution_count": null,
   "metadata": {},
   "outputs": [],
   "source": []
  }
 ],
 "metadata": {
  "kernelspec": {
   "display_name": ".venv",
   "language": "python",
   "name": "python3"
  },
  "language_info": {
   "codemirror_mode": {
    "name": "ipython",
    "version": 3
   },
   "file_extension": ".py",
   "mimetype": "text/x-python",
   "name": "python",
   "nbconvert_exporter": "python",
   "pygments_lexer": "ipython3",
   "version": "3.11.6"
  }
 },
 "nbformat": 4,
 "nbformat_minor": 2
}
