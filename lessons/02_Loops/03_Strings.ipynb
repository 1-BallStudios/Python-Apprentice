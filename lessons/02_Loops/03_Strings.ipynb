{
 "cells": [
  {
   "cell_type": "markdown",
   "metadata": {},
   "source": [
    "# Strings\n",
    "\n",
    "We've already seen strings, so let's take some time to understand them better. Here is a really basic string\n",
    "assignment\n",
    "\n",
    "```python \n",
    "\n",
    "message = \"Hello World!\"\n",
    "```\n",
    "\n",
    "You can create strings with different kinds of quotes. These are all basically the same, but each has a slightly different purpose: \n",
    "\n",
    "```python \n",
    "\n",
    "message = \"Hello World!\"\n",
    "message = 'Hello World!'\n",
    "message = \"\"\"Hello World!\"\"\"\n",
    "\n",
    "```\n",
    "\n",
    "The reason for single and double quotes is so you can \n",
    "put the other kind of quote inside. \n",
    "\n",
    "\n",
    "```python \n",
    "\n",
    "message = \" You're allowed to put single quotes inside double quotes\"\n",
    "\n",
    "message = ' He said \"You can use double quotes inside single quotes.\" '\n",
    "\n",
    "```\n",
    "\n",
    "\n",
    "You've seen the triple quote form at the top of your assignments, \n",
    "where it gives you the instructions about how to complete the lesson. The \n",
    "really important part of triple quotes is that it can span muliple lines, \n",
    "and you can also have have single and double quotes inside. \n",
    "\n",
    "```python \n",
    "\n",
    "message = \"\"\"\n",
    "\n",
    "“Hope” is the thing with feathers -\n",
    "That perches in the soul -\n",
    "And sings the tune without the words -\n",
    "And never stops - at all -\n",
    "\n",
    "\"\"\"\n",
    "\n",
    "## Escaping\n",
    "\n",
    "There are some special characters that are hard to put into strings; they require a\n",
    "special prefix character, and adding that character is called \"escaping\" or \"quoting\". \n",
    "\n",
    "For instance, you can put a double quote inside of a double quote string, but\n",
    "you have put a slash in front of it. \n",
    "\n",
    "```python \n",
    "\n",
    "message = ' You\\'re allowed to put single quotes inside single quotes, if you escape it '\n",
    "\n",
    "message = \" He said \\\"You can use double quotes inside single quotes, if you escape\\\" \"\n",
    "\n",
    "```\n",
    "\n",
    "Notice the `\\'` and `\\\"` characters in the strings. There are a lot of other characters\n",
    "that you might escape, but there are only two that you will use most of the time:\n",
    "\n",
    "* `\\n` ends a line and starts a new one. \n",
    "* `\\t` is a tab. It move the next character to the next column that is even 4 or 8 characters\n",
    "\n",
    "\n",
    "Here is an example of using `\\n` and `\\t` in a string."
   ]
  },
  {
   "cell_type": "code",
   "execution_count": 24,
   "metadata": {},
   "outputs": [
    {
     "name": "stdout",
     "output_type": "stream",
     "text": [
      "a\tb?\tc!!\t\n",
      "1\t2\t3\t\n",
      "\n"
     ]
    }
   ],
   "source": [
    "# Tabs and Newlines\n",
    "\n",
    "s = \"a\\tb?\\tc!!\\t\\n1\\t2\\t3\\t\\n\"\n",
    "print(s)"
   ]
  },
  {
   "cell_type": "markdown",
   "metadata": {},
   "source": [
    "Notice that the 1,2,3 line up with the a,b?,c!!, even though the strings are\n",
    "different lengths. Using the `\\t` the first time makes the next character always\n",
    "start at column 8, and the second one makes it always start at column 16. You\n",
    "can use this for basic formatting.\n",
    "\n",
    "\n",
    "# Test Yourself\n",
    "\n",
    "Create two strings and print them out. \n",
    "The first string will have multiple line and have a 'Roses are Red' poem. Use triple quotes\n",
    "\n",
    "The second string will use double quotes and have a list of your friends first names and their ages, \n",
    "with their ages lined up in the second column. \n"
   ]
  },
  {
   "cell_type": "code",
   "execution_count": 25,
   "metadata": {},
   "outputs": [
    {
     "name": "stdout",
     "output_type": "stream",
     "text": [
      "\n",
      "\n",
      "\n"
     ]
    }
   ],
   "source": [
    "# Test Yourself\n",
    "\n",
    "poem = \"\"\"\n",
    "\"\"\"\n",
    "\n",
    "print(poem)\n",
    "\n",
    "friends = \"\"\n",
    "\n",
    "print(friends)\n",
    "\n",
    "# Hint: you will need \\t and \\n in the friends string, but not in the poem.\n"
   ]
  },
  {
   "cell_type": "markdown",
   "metadata": {},
   "source": [
    "# Fancy Formatting\n",
    "\n",
    "Python has several different ways to format a string; we are going to practice\n",
    "the newest, and most imprtant one. These are called 'f strings' and here is what\n",
    "they look like: \n"
   ]
  },
  {
   "cell_type": "code",
   "execution_count": 26,
   "metadata": {},
   "outputs": [
    {
     "name": "stdout",
     "output_type": "stream",
     "text": [
      "John is 14 years old.\n"
     ]
    }
   ],
   "source": [
    "# f-strings\n",
    "\n",
    "age = 14\n",
    "name = \"John\"\n",
    "\n",
    "print(f\"{name} is {age} years old.\")\n"
   ]
  },
  {
   "cell_type": "markdown",
   "metadata": {},
   "source": [
    "The important parts of the `f` string is \n",
    "\n",
    "* It starts with 'f'\n",
    "* You can insert variables inside it by surrounding them with curly braces, `{}`\n",
    "\n",
    "Here are some more important things you can do with f-strings. "
   ]
  },
  {
   "cell_type": "code",
   "execution_count": 27,
   "metadata": {},
   "outputs": [
    {
     "name": "stdout",
     "output_type": "stream",
     "text": [
      "JOHN is 14 years old. In 5 years, he will be 19 years old.\n",
      "With a seperator: 1,234,567.890123\n",
      "Rounded to 2 places: 1234567.89\n",
      "Hello     World     !\n"
     ]
    }
   ],
   "source": [
    "# More F-Strings\n",
    "\n",
    "# You can put lots of expressions inside the curly braces, not just variable names\n",
    "\n",
    "print(f\"{name.upper()} is {age} years old. In 5 years, he will be {age + 5} years old.\")\n",
    "\n",
    "# You can add a colon after the variable name to format the output\n",
    "# For instance, to make a number appear with commas as thousands separators, you can write {number:,}\n",
    "# or to make it have only 2 decimal places, you can write {number:.2f}\n",
    "\n",
    "number = 1234567.890123\n",
    "\n",
    "print(f\"With a seperator: {number:,}\")\n",
    "print(f\"Rounded to 2 places: {number:.2f}\")\n",
    "\n",
    "# You can make a string appear in a certain number of spaces by writing {string:10}\n",
    "# This will make the string appear in a space of 10 characters, padding it with spaces if necessary\n",
    "\n",
    "print(f\"{'Hello':10}{'World':10}!\")\n",
    "\n"
   ]
  },
  {
   "cell_type": "markdown",
   "metadata": {},
   "source": [
    "There is a lot more you can do with f-strings, but this will get you started. \n",
    "\n",
    "## Test Yourself\n",
    "\n",
    "In the loop, print out:\n",
    "\n",
    "* start each line with \"#\"\n",
    "* The number, formatted to 3 spaces\n",
    "* a math equation showing the number times 2\n",
    "* the last number is formatted to 5 spaces\n",
    "\n",
    "For instance, one of the lines should look like\n",
    "\n",
    "```python \n",
    "#  6 6 * 2 =    12\n",
    "```\n"
   ]
  },
  {
   "cell_type": "code",
   "execution_count": 28,
   "metadata": {},
   "outputs": [],
   "source": [
    "# Test Yourself\n",
    "\n",
    "for i in range(1, 9):\n",
    "    ..."
   ]
  },
  {
   "cell_type": "code",
   "execution_count": null,
   "metadata": {},
   "outputs": [],
   "source": []
  },
  {
   "cell_type": "code",
   "execution_count": null,
   "metadata": {},
   "outputs": [],
   "source": []
  }
 ],
 "metadata": {
  "kernelspec": {
   "display_name": ".venv",
   "language": "python",
   "name": "python3"
  },
  "language_info": {
   "codemirror_mode": {
    "name": "ipython",
    "version": 3
   },
   "file_extension": ".py",
   "mimetype": "text/x-python",
   "name": "python",
   "nbconvert_exporter": "python",
   "pygments_lexer": "ipython3",
   "version": "3.11.9"
  }
 },
 "nbformat": 4,
 "nbformat_minor": 2
}
