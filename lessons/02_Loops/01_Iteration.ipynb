{
 "cells": [
  {
   "cell_type": "markdown",
   "id": "5a4acb70",
   "metadata": {},
   "source": [
    "# First Look at Lists\n",
    "\n",
    "\n",
    "Like we said before, a list is a lot like a list that you already know about, like a grocery list:\n",
    "\n",
    "```\n",
    "Things To Buy\n",
    "  - apples\n",
    "  - oranges\n",
    "  - bread \n",
    "  - milk\n",
    "```\n",
    "\n",
    "But in Python we would write it like this: \n",
    "\n",
    "```python \n",
    "things_to_buy = [ 'apples','oranges','bread','milk']\n",
    "```\n",
    "\n",
    "The brackets, `[` and `]` are most often used to mean that something is a list. \n",
    "\n",
    "There are a lot of neat things we can do with a list.\n",
    "\n",
    "First, you can get a specific item from a list, using the `[]` with a number inside. \n"
   ]
  },
  {
   "cell_type": "markdown",
   "id": "9280847b",
   "metadata": {
    "lines_to_next_cell": 0
   },
   "source": [
    "\n",
    "```python\n",
    "things_to_buy[1]\n",
    "> oranges\n",
    "```\n",
    "\n",
    "Getting values out of a list like this is called \"indexing\".\n",
    "\n",
    "\n",
    "Like most programming languages, the first item in a list is 0, not 1, so if\n",
    "you wanted to get `apples` from the list, you would write `things_to_get[0]`\n",
    "\n",
    "Another important thing about lists is you can _iterate_ them, which means 'do\n",
    "something repeatedly'. Here is how we would print out all of the items in the\n",
    "list: \n"
   ]
  },
  {
   "cell_type": "code",
   "execution_count": null,
   "id": "183089f2",
   "metadata": {
    "lines_to_next_cell": 2,
    "title": "[python]"
   },
   "outputs": [],
   "source": [
    "\n",
    "things_to_buy = [ 'apples','oranges','bread','milk']\n",
    " \n",
    "for item in things_to_buy:\n",
    "    print(item)"
   ]
  },
  {
   "cell_type": "markdown",
   "id": "2b5a515a",
   "metadata": {
    "lines_to_next_cell": 2
   },
   "source": [
    "Loops and lists could be very useful for our turtle programs. For instance, we could make a square with \n",
    "a different color on each side: \n",
    "\n",
    "```python\n",
    "import turtle\n",
    "tina = turtle.Turtle()\n",
    "tina.shape(\"turtle\")\n",
    "\n",
    "forward = 50\n",
    "left = 90\n",
    "colors = [ 'red', 'blue', 'black', 'orange']\n",
    "\n",
    "for color in colors:\n",
    "    tina.color(color)\n",
    "    tina.forward(forward)\n",
    "    tina.left(left)\n",
    "\n",
    "```\n",
    "\n",
    "Or, we could change the angle that tina turns: \n",
    "\n",
    "```python\n",
    "import turtle\n",
    "tina = turtle.Turtle()\n",
    "tina.shape(\"turtle\")\n",
    "\n",
    "forward = 50\n",
    "\n",
    "for left in [ 45, 60, 90, 45, -90, 60, 22 , -45, 90]:\n",
    "    tina.forward(forward)\n",
    "    tina.left(left)\n",
    "\n",
    "```\n",
    "\n",
    "\n",
    "Here is a way that we could change two variables at once, using array indexes:\n",
    "\n",
    "\n",
    "```python\n",
    "import turtle\n",
    "tina = turtle.Turtle()\n",
    "tina.shape(\"turtle\")\n",
    "\n",
    "forward = 50\n",
    "lefts = [ 45, -60, 90, 45, -90, 60, 22 , -45 ]\n",
    "colors = [ 'red', 'blue', 'black', 'orange', 'red', 'blue', 'black', 'orange']\n",
    "\n",
    "for  i in range(8):\n",
    "    left = lefts[i]\n",
    "    color = colors[i]\n",
    "\n",
    "    tina.color(color)\n",
    "    tina.forward(forward)\n",
    "    tina.left(left)\n",
    "\n",
    "```\n"
   ]
  },
  {
   "cell_type": "markdown",
   "id": "bc85d21a",
   "metadata": {
    "lines_to_next_cell": 0
   },
   "source": [
    "# Iterating over Iterables\n",
    "\n",
    "Here is the first simple list that you learned about earlier. \n",
    "\n",
    "```python \n",
    "things_to_buy = [ 'apples','oranges','bread','milk']\n",
    "```\n",
    "\n",
    "This variable, `things_to_buy` is interesting, because it is a list of\n",
    "strings, but the strings are also a list, a list of letters. And in Python, \n",
    "lists and strings are a lot a like. So, let's learn more about them both. \n",
    "\n",
    "Both lists and strings are \"iterables\". Iteration means taking things one at a\n",
    "time, and \"iterating\" a list means that we will get the first thing in the\n",
    "list, then the second, and on, until there is nothing left in the list. We have\n",
    "seen iteration before, with loops. Here are two loops, \n",
    "one iterating over a list, and another iterating over a string. \n",
    "\n"
   ]
  },
  {
   "cell_type": "code",
   "execution_count": null,
   "id": "15a2f38b",
   "metadata": {
    "title": "[python]"
   },
   "outputs": [],
   "source": [
    "\n",
    "things_to_buy = [ 'apples','oranges','bread','milk']\n",
    " \n",
    "print(\"Things to buy:\")\n",
    "\n",
    "for things in things_to_buy:\n",
    "    print(things)\n",
    " \n",
    "print(\"\\nLetters in a string\")\n",
    "\n",
    "for letter in \"Hello!\":\n",
    "    print(letter)"
   ]
  },
  {
   "cell_type": "markdown",
   "id": "65532a60",
   "metadata": {},
   "source": [
    "\n",
    " # Now change the program so that, in the second loop, \n",
    " # the program prints an 'x' instead of an 'l'\n",
    " \n",
    " "
   ]
  },
  {
   "cell_type": "markdown",
   "id": "65625cd0",
   "metadata": {
    "lines_to_next_cell": 0
   },
   "source": [
    "## Iterables\n",
    "\n",
    "The for loop, which looks like `for <variable> in <iterable>` works by taking each one of the \n",
    "things in the iterable, assigning it to the variable, then running the code in the body\n",
    "of the loop. \n",
    "\n",
    "But, then you wonder, what does the code we first used for loops do? The one with `range()`\n",
    "in it?\n",
    "\n",
    "Well, `range()` is an iterable!. But it isn't a string or a list. It doesn't have anything in it. \n",
    "It just gives you the next number. But, we can turn it into a list that does have things in it. Here is\n",
    "how: \n",
    "\n",
    "```python\n",
    "\n",
    "# Turn a range() into a list:\n",
    "\n",
    "l = list(range(5, 10))\n",
    "print(l)\n",
    "\n",
    "```\n",
    "\n",
    "::: tip \n",
    "The reason that range() is not a list is that if you had a big range, like range(1_000_000_000), \n",
    "Python would have to store a billion numbers, and would run out of memory. But range() doesn't actually store all of those numbers, it just counts up by 1, so it doesn't take a lot of memory )\n",
    ":::\n",
    "\n",
    "\n",
    "Then you put something inside `list()`, list will try to iterate the thing, and then take each \n",
    "item and put it into a list. A string, like 'Hello World' is not a list, but we can turn it into \n",
    "a list. \n",
    "\n",
    "\n",
    "```python\n",
    "\n",
    "# Turn a stringinto a list:\n",
    "\n",
    "l = list(\"Hello World!\")\n",
    "print(l)\n",
    "\n",
    "```\n",
    "\n",
    "You can turn a string into a list. The first way breaks the list into letters ( which programmers call \"characters\". The second way breaks the list at a specific character. \n",
    "\n",
    "```python\n",
    "\n",
    "# A list of letters\n",
    "l = list('adefibhgc')\n",
    "print(l)\n",
    "\n",
    "# split a string at the comma character\n",
    "s = 'One,Two,Three,Four'\n",
    "l = s.split(',')\n",
    "\n",
    "\n",
    "```\n",
    "\n",
    "## Sorting\n",
    "\n",
    "Wait, those letters are out of order. Let's put them back in order. There are two ways: \n",
    "\n",
    "```python\n",
    "\n",
    "l = list('adefibhgc')\n",
    "l.sort()\n",
    "print(l)\n",
    "print()\n",
    "\n",
    "l = list('adefibhgc')\n",
    "l = sorted(l)\n",
    "print(l)\n",
    "```\n",
    "\n",
    "## Adding To Lists\n",
    "\n",
    "You can add items to lists with `.append()`, and concatenate lists ( put them\n",
    "together) with `+`:\n"
   ]
  },
  {
   "cell_type": "code",
   "execution_count": null,
   "id": "a6550d5f",
   "metadata": {
    "title": "[python]"
   },
   "outputs": [],
   "source": [
    "# \n",
    "# l = []\n",
    "# \n",
    "# l.append('item 1')\n",
    "# l.append('item 2')\n",
    "# l.append('item 3')\n",
    "# \n",
    "# l  = l + ['item 4', 'item 5']\n",
    "# \n",
    "# print(l)"
   ]
  },
  {
   "cell_type": "markdown",
   "id": "ee522118",
   "metadata": {
    "lines_to_next_cell": 0
   },
   "source": [
    "\n",
    "Try adding more items to the list!\n"
   ]
  },
  {
   "cell_type": "code",
   "execution_count": null,
   "id": "17a599ca",
   "metadata": {
    "title": "[python]"
   },
   "outputs": [],
   "source": [
    "\n"
   ]
  },
  {
   "cell_type": "markdown",
   "id": "c8f4a193",
   "metadata": {},
   "source": [
    "# Show Us Your Lists!\n",
    "\n",
    "Now, you can write a program. Here is what your program should do. \n",
    "\n",
    "* Start with a string that has friend names, with spaces between the friend names, like\n",
    "this, but with real names: `'foo bar baz'`. Split the list into a string.\n",
    "* Ask the user for new friend names three times, and add those names to the list\n",
    "* Sort the list\n",
    "* Print out each name on a seperate line. \n"
   ]
  },
  {
   "cell_type": "code",
   "execution_count": null,
   "id": "6c51bbf8",
   "metadata": {
    "title": "[python]"
   },
   "outputs": [],
   "source": [
    "# "
   ]
  }
 ],
 "metadata": {
  "jupytext": {
   "cell_metadata_filter": "title,-all",
   "main_language": "python",
   "notebook_metadata_filter": "-all"
  }
 },
 "nbformat": 4,
 "nbformat_minor": 5
}
