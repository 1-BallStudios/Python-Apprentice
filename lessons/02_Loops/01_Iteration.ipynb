{
 "cells": [
  {
   "cell_type": "markdown",
   "metadata": {},
   "source": [
    "# Loops and Iteration\n",
    "\n",
    "We've already used loops a lot. They look like this: \n",
    "\n",
    "```python \n",
    "\n",
    "for i in range(10):\n",
    "    print(i)\n",
    "\n",
    "```\n",
    "\n",
    "Like ``if`` statements, loops have parts that we can understand individually.\n",
    "All of the loops start with ``for``, then have a variable name, then have\n",
    "``in``. The last part is called an \"iterable\". \n",
    "\n",
    "We call it an \"iterable\" because ... we can iterate it, and \"iterate\" just\n",
    "means \"take one thing after another\".\n",
    "\n",
    "Here are some things that are iterable:\n",
    "\n",
    "* a list: ['a','b','c','d']\n",
    "* a tuple: (1,2,3,4,5)\n",
    "* a string: \"hello world\"\n",
    "* range: range(10)\n",
    "* many others!\n",
    "\n",
    "You can put any of those things into a loop. "
   ]
  },
  {
   "cell_type": "code",
   "execution_count": 1,
   "metadata": {},
   "outputs": [
    {
     "name": "stdout",
     "output_type": "stream",
     "text": [
      "a\n",
      "b\n",
      "c\n",
      "d\n"
     ]
    }
   ],
   "source": [
    "# Iterate a list\n",
    "for i in ['a','b','c','d']:\n",
    "    print(i)"
   ]
  },
  {
   "cell_type": "code",
   "execution_count": 2,
   "metadata": {},
   "outputs": [
    {
     "name": "stdout",
     "output_type": "stream",
     "text": [
      "H\n",
      "e\n",
      "l\n",
      "l\n",
      "o\n",
      " \n",
      "W\n",
      "o\n",
      "r\n",
      "l\n",
      "d\n",
      "!\n"
     ]
    }
   ],
   "source": [
    "# Iterate over a string\n",
    "for c in \"Hello World!\":\n",
    "    print(c)"
   ]
  },
  {
   "cell_type": "markdown",
   "metadata": {},
   "source": [
    "( You cant change them because not being modifyable makes tuples more efficient than lists )\n",
    "\n",
    "Tuples are important because a lot of other iterables create tuples. \n",
    "\n",
    "Another important kind of iterable is a string. We've already seen strings:\n",
    "\n",
    "```python \n",
    "\n",
    "message = \"Hello World!\"\n",
    "```\n",
    "\n",
    "You can create strings with different kinds of quotes. These are all basically the same, but each has a slightly different purpose: \n",
    "\n",
    "```python \n",
    "\n",
    "message = \"Hello World!\"\n",
    "message = 'Hello World!'\n",
    "message = \"\"\"Hello World!\"\"\"\n",
    "\n",
    "```\n",
    "\n",
    "Strings are also iterable, so you can use them in a loop: "
   ]
  },
  {
   "cell_type": "code",
   "execution_count": 2,
   "metadata": {},
   "outputs": [
    {
     "name": "stdout",
     "output_type": "stream",
     "text": [
      "H\n",
      "e\n",
      "l\n",
      "l\n",
      "o\n",
      " \n",
      "W\n",
      "o\n",
      "r\n",
      "l\n",
      "d\n"
     ]
    }
   ],
   "source": [
    "for c in \"Hello World\":\n",
    "    print(c)\n",
    "    "
   ]
  },
  {
   "cell_type": "markdown",
   "metadata": {},
   "source": [
    "And, you can index them like lists:"
   ]
  },
  {
   "cell_type": "code",
   "execution_count": null,
   "metadata": {},
   "outputs": [],
   "source": [
    "m = \"Hello World\"\n",
    "\n",
    "m[::-1]"
   ]
  }
 ],
 "metadata": {
  "kernelspec": {
   "display_name": ".venv",
   "language": "python",
   "name": "python3"
  },
  "language_info": {
   "codemirror_mode": {
    "name": "ipython",
    "version": 3
   },
   "file_extension": ".py",
   "mimetype": "text/x-python",
   "name": "python",
   "nbconvert_exporter": "python",
   "pygments_lexer": "ipython3",
   "version": "3.11.9"
  }
 },
 "nbformat": 4,
 "nbformat_minor": 2
}
