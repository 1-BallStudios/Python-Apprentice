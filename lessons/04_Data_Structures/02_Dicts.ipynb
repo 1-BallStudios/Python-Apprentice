{
 "cells": [
  {
   "cell_type": "markdown",
   "metadata": {},
   "source": [
    "## Dictionaries\n",
    "\n",
    "You know what a dictionary is, right? It has words and definitions, and you look\n",
    "up the words to find the definitions. Here is how we create a dictionary in\n",
    "Python: "
   ]
  },
  {
   "cell_type": "code",
   "execution_count": 3,
   "metadata": {},
   "outputs": [
    {
     "name": "stdout",
     "output_type": "stream",
     "text": [
      "cacophony: a harsh, discordant mixture of sounds\n",
      "xerebrose: dry, uninteresting\n"
     ]
    }
   ],
   "source": [
    "# Dictionary example\n",
    "\n",
    "# A dictionary of words for superior people\n",
    "\n",
    "superior_words = {\n",
    "    \"abecedarian\": \"a person who is learning the alphabet\",\n",
    "    \"blandishment\": \"flattering speech or actions designed to persuade\",\n",
    "    \"cacophony\": \"a harsh, discordant mixture of sounds\",\n",
    "    \"defenestration\": \"the act of throwing someone out of a window\",\n",
    "    \"egregious\": \"outstandingly bad; shocking\",\n",
    "    \"flagitious\": \"criminal; villainous\",\n",
    "    \"grandiloquent\": \"pompous or extravagant in language, style, or manner\",\n",
    "    \"hirsute\": \"hairy\",\n",
    "    \"ignominious\": \"deserving or causing public disgrace or shame\",\n",
    "    \"juxtapose\": \"to place side by side for contrast or comparison\",\n",
    "    \"sesquipedalian\": \"given to using long words\",\n",
    "    \"xerebrose\": \"dry, uninteresting\"\n",
    "}\n",
    "\n",
    "# one way to look up a word\n",
    "word = \"cacophony\"\n",
    "definition = superior_words[word]\n",
    "print(f\"{word}: {definition}\")\n",
    "\n",
    "# another way to look up a word\n",
    "word = \"xerebrose\"\n",
    "definition = superior_words.get(word)\n",
    "print(f\"{word}: {definition}\")\n",
    "\n"
   ]
  },
  {
   "cell_type": "markdown",
   "metadata": {},
   "source": []
  },
  {
   "cell_type": "markdown",
   "metadata": {},
   "source": []
  },
  {
   "cell_type": "markdown",
   "metadata": {},
   "source": []
  }
 ],
 "metadata": {
  "kernelspec": {
   "display_name": ".venv",
   "language": "python",
   "name": "python3"
  },
  "language_info": {
   "codemirror_mode": {
    "name": "ipython",
    "version": 3
   },
   "file_extension": ".py",
   "mimetype": "text/x-python",
   "name": "python",
   "nbconvert_exporter": "python",
   "pygments_lexer": "ipython3",
   "version": "3.11.9"
  }
 },
 "nbformat": 4,
 "nbformat_minor": 2
}
